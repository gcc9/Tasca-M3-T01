{
 "cells": [
  {
   "cell_type": "code",
   "execution_count": 55,
   "id": "ea88bc6e",
   "metadata": {},
   "outputs": [
    {
     "name": "stdout",
     "output_type": "stream",
     "text": [
      "mean: 53.9\n",
      "mediana: 52.5\n",
      "percentil 50 (mediana): 52.5\n",
      "percentil 25: 42.5\n",
      "percentil 75: 58.0\n",
      "desviación estándar: 21.116107595861507\n",
      "varianza: 445.89\n"
     ]
    }
   ],
   "source": [
    "#- Exercici 1\n",
    "#Crea una funció que donat un Array d’una dimensió, et faci un resum estadístic bàsic de les dades. Si detecta que l’array té més d’una dimensió, ha de mostrar un missatge d’error.\n",
    "\n",
    "import numpy as np\n",
    "\n",
    "\n",
    "# x = np.array([[0, 1, 2], [3, 4, 5]]) \n",
    "x=np.random.randint(1,100,10)\n",
    "\n",
    "def analisis_de_matriz_x_de1dimension(x):\n",
    "    if x.ndim > 1:\n",
    "        print(\"Error: la matriu té més d'una dimensió\")\n",
    "    else:\n",
    "        print (\"mean:\", np.mean (x))\n",
    "        print (\"mediana:\", np.median (x))\n",
    "        print (\"percentil 50 (mediana):\", np.percentile (x, 50))\n",
    "        print (\"percentil 25:\", np.percentile (x, 25))\n",
    "        print (\"percentil 75:\", np.percentile (x, 75))\n",
    "        print (\"desviación estándar:\", np.std (x))\n",
    "        print (\"varianza:\", np.var (x))\n",
    "    \n",
    "analisis_de_matriz_x_de1dimension(x)"
   ]
  },
  {
   "cell_type": "code",
   "execution_count": 97,
   "id": "7fb4d45e",
   "metadata": {},
   "outputs": [
    {
     "name": "stdout",
     "output_type": "stream",
     "text": [
      "[[57 47 94 79  1 40]\n",
      " [35 83 87 23 12  9]\n",
      " [71 63 72 96 61  8]\n",
      " [33 97 31 79 78 87]\n",
      " [57 90 41 59  1 86]\n",
      " [23 21 53 37 20 20]]\n"
     ]
    }
   ],
   "source": [
    "#- Exercici 2\n",
    "#Crea una funció que et generi un quadrat NxN de nombres aleatoris entre el 0 i el 100.\n",
    "import numpy as np\n",
    "\n",
    "def quadrat_NxN (y, x=100):\n",
    "    NxN = np.random.randint(x,size=(y,y))\n",
    "    print(NxN)\n",
    "    \n",
    "quadrat_NxN(6)\n"
   ]
  },
  {
   "cell_type": "code",
   "execution_count": 104,
   "id": "ee9c376c",
   "metadata": {},
   "outputs": [
    {
     "name": "stdout",
     "output_type": "stream",
     "text": [
      "0     6\n",
      "1     8\n",
      "2    10\n",
      "dtype: int64\n",
      "0     6\n",
      "1    18\n",
      "dtype: int64\n",
      "([1, 2, 3], [5, 6, 7])\n"
     ]
    }
   ],
   "source": [
    "#- Exercici 3\n",
    "#Crea una funció que donada una taula de dues dimensions (NxM), et calculi els totals per fila i els totals per columna.\n",
    "\n",
    "#def Totals_fila_x_Tot_col(y,x)\n",
    "\n",
    "import pandas as pd\n",
    "data = [1,2,3],[5,6,7]\n",
    "\n",
    "\n",
    "\n",
    "\n",
    "df = pd.DataFrame(data)\n",
    "sum_column = df.sum(axis=0)\n",
    "sum_fila = df.sum(axis=1)\n",
    "\n",
    "print (sum_column)\n",
    "print(sum_fila)\n",
    "\n",
    "print(data)\n"
   ]
  },
  {
   "cell_type": "code",
   "execution_count": 115,
   "id": "753648c6",
   "metadata": {},
   "outputs": [
    {
     "name": "stdout",
     "output_type": "stream",
     "text": [
      "0     6\n",
      "1     8\n",
      "2    10\n",
      "dtype: int64\n",
      "0     6\n",
      "1    18\n",
      "dtype: int64\n",
      "([1, 2, 3], [5, 6, 7])\n"
     ]
    }
   ],
   "source": [
    "#- Exercici 3\n",
    "#Crea una funció que donada una taula de dues dimensions (NxM), et calculi els totals per fila i els totals per columna.\n",
    "\n",
    "\n",
    "import pandas as pd\n",
    "matriu = [1,2,3],[5,6,7]\n",
    "\n",
    "def Totals_fila_x_Tot_col(matriu):\n",
    "    df = pd.DataFrame(matriu)\n",
    "    sum_column = df.sum(axis=0)\n",
    "    sum_fila = df.sum(axis=1)\n",
    "    print (sum_column)\n",
    "    print(sum_fila)\n",
    "\n",
    "Totals_fila_x_Tot_col(matriu)\n"
   ]
  },
  {
   "cell_type": "code",
   "execution_count": null,
   "id": "49283220",
   "metadata": {},
   "outputs": [],
   "source": []
  },
  {
   "cell_type": "code",
   "execution_count": 116,
   "id": "327c0093",
   "metadata": {},
   "outputs": [
    {
     "name": "stdout",
     "output_type": "stream",
     "text": [
      "r =  0.94\n"
     ]
    }
   ],
   "source": [
    "#- Exercici 4\n",
    "#Implementa manualment una funció que calculi el coeficient de correlació. Informa-te'n sobre els seus usos i interpretació.\n",
    "\n",
    "\n",
    "import numpy as np\n",
    "\n",
    "## Calcularé el coeficient de correlació entre les notes dels alumnes, de les matèries de física i de matemàtiques. \n",
    "\n",
    "# Notes de matemàtiques:\n",
    "P = np.array([2,3,4,4,5,6,6,7,7,8,10,10])\n",
    "\n",
    "# Notes de física:\n",
    "A = np.array([1,3,2,4,4,4,6,4,6,7,9,10])\n",
    "\n",
    "def Coef_correlació (P,A):\n",
    "    PA = P*A\n",
    "    P2 = np.square (P)\n",
    "    A2 = np.square (A)\n",
    "\n",
    "    # Mitjanes arimètiques: \n",
    "    Pm = np.average(P)\n",
    "    Am = np.average(A)\n",
    "\n",
    "    # Covariança:\n",
    "    Rm = np.average (PA) - Pm*Am\n",
    "\n",
    "    # Desviació típica: \n",
    "    Dp = np.sqrt(np.average(P2) - np.square(Pm))\n",
    "    Da = np.sqrt(np.average(A2) - np.square(Am))\n",
    "\n",
    "    # Coeficient de correlació:\n",
    "    r = round((Rm/(Dp*Da)),2)\n",
    "    print(\"r = \", r)\n",
    "\n",
    "Coef_correlació (P,A)"
   ]
  }
 ],
 "metadata": {
  "kernelspec": {
   "display_name": "Python 3 (ipykernel)",
   "language": "python",
   "name": "python3"
  },
  "language_info": {
   "codemirror_mode": {
    "name": "ipython",
    "version": 3
   },
   "file_extension": ".py",
   "mimetype": "text/x-python",
   "name": "python",
   "nbconvert_exporter": "python",
   "pygments_lexer": "ipython3",
   "version": "3.9.12"
  }
 },
 "nbformat": 4,
 "nbformat_minor": 5
}
